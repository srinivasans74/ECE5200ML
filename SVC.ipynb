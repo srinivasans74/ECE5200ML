{
 "cells": [
  {
   "cell_type": "code",
   "execution_count": 5,
   "id": "49b7d0a0-d18b-4d58-a865-26f7a5fe135e",
   "metadata": {},
   "outputs": [],
   "source": [
    "import numpy as np\n",
    "import pickle\n",
    "import bz2\n",
    "from sklearn.linear_model import LogisticRegression\n",
    "import numpy as np\n",
    "import matplotlib.pyplot as plt\n",
    "from sklearn.linear_model import Lasso, Ridge, LinearRegression\n",
    "from sklearn.metrics import r2_score\n",
    "from sklearn.preprocessing import StandardScaler\n",
    "from sklearn.model_selection import cross_val_score, GridSearchCV, KFold\n",
    "from sklearn.model_selection import cross_val_predict\n",
    "from sklearn.metrics import confusion_matrix\n",
    "from sklearn.model_selection import train_test_split\n",
    "from sklearn.metrics import ConfusionMatrixDisplay\n",
    "from sklearn.metrics import accuracy_score\n",
    "from sklearn.pipeline import Pipeline\n",
    "from sklearn.feature_selection import SelectFromModel\n",
    "from sklearn.linear_model import Lasso, LogisticRegression\n",
    "from sklearn.pipeline import Pipeline\n",
    "from sklearn.metrics import accuracy_score\n",
    "import numpy as np\n",
    "from sklearn.linear_model import Lasso\n",
    "from sklearn.model_selection import GridSearchCV\n",
    "from sklearn.pipeline import Pipeline\n",
    "from sklearn.decomposition import PCA\n",
    "from sklearn.metrics import confusion_matrix\n",
    "from sklearn.decomposition import TruncatedSVD\n"
   ]
  },
  {
   "cell_type": "code",
   "execution_count": 6,
   "id": "5496ee27-9a2b-404f-b798-9ef5e87ab1c2",
   "metadata": {},
   "outputs": [
    {
     "name": "stdout",
     "output_type": "stream",
     "text": [
      "16\n",
      "10000\n"
     ]
    }
   ],
   "source": [
    "# load training data\n",
    "Xtr_loadpath = 'Xtr.csv'\n",
    "Xts_loadpath = 'Xts.csv'\n",
    "ytr_loadpath = 'ytr.csv'\n",
    "\n",
    "\n",
    "Xtr = np.loadtxt(Xtr_loadpath, delimiter=\",\")\n",
    "Xts = np.loadtxt(Xts_loadpath, delimiter=\",\")\n",
    "ytr = np.loadtxt(ytr_loadpath, delimiter=\",\")\n",
    "\n",
    "num_features = Xtr.shape[1]\n",
    "num_samples = Xtr.shape[0]\n",
    "print(num_features)\n",
    "print(num_samples)\n",
    "\n"
   ]
  },
  {
   "cell_type": "code",
   "execution_count": 7,
   "id": "f91ed35d-dfb2-4eab-8c22-7b4eb91b5021",
   "metadata": {},
   "outputs": [],
   "source": [
    "from scipy.stats import skew\n",
    "from sklearn.preprocessing import PowerTransformer\n",
    "from sklearn.preprocessing import MinMaxScaler\n",
    "from sklearn.preprocessing import Normalizer\n",
    "\n",
    "\n",
    "scaler=StandardScaler()\n",
    "xmean=np.mean(Xtr,axis=0)\n",
    "xstd=np.std(Xtr,axis=0)\n",
    "Xtr_standardized = (Xtr-xmean[None,:])/xstd[None,:]\n",
    "Xts_standardized = (Xts-xmean[None,:])/xstd[None,:]\n",
    "\n",
    "# save the standardized training data\n",
    "Xtr_savepath = 'Xtr_sklearn.csv'\n",
    "Xts_savepath = 'Xts_sklearn.csv'\n",
    "yts_hat_savepath = 'yts_hat_sklearn.csv'\n",
    "\n",
    "np.savetxt(Xtr_savepath, Xtr_standardized, delimiter=\",\")\n",
    "np.savetxt(Xts_savepath, Xts_standardized, delimiter=\",\")\n",
    "\n",
    "X_train, X_test, y_train, y_test = train_test_split(Xtr_standardized, ytr, test_size=0.25, shuffle=True)"
   ]
  },
  {
   "cell_type": "code",
   "execution_count": 8,
   "id": "1d0bd435-b110-4cbe-b550-1c7511ec70d2",
   "metadata": {},
   "outputs": [
    {
     "name": "stderr",
     "output_type": "stream",
     "text": [
      "c:\\ProgramData\\Anaconda3\\lib\\site-packages\\sklearn\\svm\\_base.py:985: ConvergenceWarning: Liblinear failed to converge, increase the number of iterations.\n",
      "  warnings.warn(\"Liblinear failed to converge, increase \"\n"
     ]
    },
    {
     "name": "stdout",
     "output_type": "stream",
     "text": [
      "Best parameter: {'C': 300, 'loss': 'hinge', 'multi_class': 'crammer_singer'}\n",
      "Best score: 0.7778666666666666\n",
      "Accuracy on test data = 0.792400\n"
     ]
    },
    {
     "name": "stderr",
     "output_type": "stream",
     "text": [
      "c:\\ProgramData\\Anaconda3\\lib\\site-packages\\sklearn\\svm\\_base.py:985: ConvergenceWarning: Liblinear failed to converge, increase the number of iterations.\n",
      "  warnings.warn(\"Liblinear failed to converge, increase \"\n"
     ]
    }
   ],
   "source": [
    "from sklearn import linear_model, preprocessing, svm\n",
    "svc = svm.LinearSVC(loss='hinge', C=50, multi_class='crammer_singer')\n",
    "C_test = [1,10,20,30,40,50,100,200,300,400]\n",
    "num_folds=5\n",
    "import sklearn.model_selection\n",
    "from sklearn.model_selection import GridSearchCV\n",
    "kf = KFold(n_splits=num_folds, shuffle=True, random_state=42)\n",
    "param_grid = {'C' : C_test, 'multi_class' : ['crammer_singer'],'loss' : ['hinge']}\n",
    "svc_c = svm.LinearSVC(C=10000, multi_class='crammer_singer',max_iter=100000,loss='squared_hinge')\n",
    "clf = GridSearchCV(svc_c, param_grid = param_grid, cv = kf, verbose=0,n_jobs=-1)\n",
    "clf.fit(X_train,y_train)\n",
    "\n",
    "# TODO:  Print the best parameter and score of the classifier\n",
    "print(\"Best parameter: \" + str(clf.best_params_))\n",
    "print(\"Best score: \" + str(clf.best_score_))\n",
    "\n",
    "svc = svm.LinearSVC(penalty='None', C=clf.best_params_['C'], multi_class='crammer_singer',max_iter=10000,loss='squared_hinge',dual=False)\n",
    "svc.fit(X_train,y_train)\n",
    "yhat = svc.predict(X_test)\n",
    "acc = np.mean(yhat== y_test)\n",
    "print('Accuracy on test data = {0:f}'.format(acc))"
   ]
  },
  {
   "cell_type": "code",
   "execution_count": 9,
   "id": "9c92743d-f1a3-4182-be7f-6319b8d840c3",
   "metadata": {},
   "outputs": [
    {
     "name": "stderr",
     "output_type": "stream",
     "text": [
      "c:\\ProgramData\\Anaconda3\\lib\\site-packages\\sklearn\\svm\\_base.py:985: ConvergenceWarning: Liblinear failed to converge, increase the number of iterations.\n",
      "  warnings.warn(\"Liblinear failed to converge, increase \"\n"
     ]
    },
    {
     "name": "stdout",
     "output_type": "stream",
     "text": [
      "Best parameter: {'C': 200, 'loss': 'hinge', 'multi_class': 'ovr'}\n",
      "Best score: 0.5941333333333334\n",
      "Accuracy on test data = 0.700800\n"
     ]
    }
   ],
   "source": [
    "from sklearn import linear_model, preprocessing, svm\n",
    "svc = svm.LinearSVC(loss='hinge', C=50, multi_class='ovr')\n",
    "C_test = [1,10,20,30,40,50,100,200,300,400]\n",
    "num_folds=5\n",
    "import sklearn.model_selection\n",
    "from sklearn.model_selection import GridSearchCV\n",
    "kf = KFold(n_splits=num_folds, shuffle=True, random_state=42)\n",
    "param_grid = {'C' : C_test, 'multi_class' : ['ovr'],'loss' : ['hinge']}\n",
    "svc_c = svm.LinearSVC(C=10000, multi_class='ovr',max_iter=100000,loss='squared_hinge')\n",
    "clf = GridSearchCV(svc_c, param_grid = param_grid, cv = kf, verbose=0,n_jobs=-1)\n",
    "clf.fit(X_train,y_train)\n",
    "\n",
    "# TODO:  Print the best parameter and score of the classifier\n",
    "print(\"Best parameter: \" + str(clf.best_params_))\n",
    "print(\"Best score: \" + str(clf.best_score_))\n",
    "\n",
    "svc = svm.LinearSVC(C=clf.best_params_['C'], multi_class='ovr',max_iter=10000,loss='squared_hinge',dual=False)\n",
    "svc.fit(X_train,y_train)\n",
    "yhat = svc.predict(X_test)\n",
    "acc = np.mean(yhat== y_test)\n",
    "print('Accuracy on test data = {0:f}'.format(acc))"
   ]
  },
  {
   "cell_type": "code",
   "execution_count": 10,
   "id": "c9e02808-af2b-4414-97c6-76ac123c0a75",
   "metadata": {},
   "outputs": [
    {
     "name": "stderr",
     "output_type": "stream",
     "text": [
      "c:\\ProgramData\\Anaconda3\\lib\\site-packages\\sklearn\\svm\\_base.py:985: ConvergenceWarning: Liblinear failed to converge, increase the number of iterations.\n",
      "  warnings.warn(\"Liblinear failed to converge, increase \"\n"
     ]
    },
    {
     "name": "stdout",
     "output_type": "stream",
     "text": [
      "Accuracy on test data = 0.790000\n"
     ]
    },
    {
     "name": "stderr",
     "output_type": "stream",
     "text": [
      "c:\\ProgramData\\Anaconda3\\lib\\site-packages\\sklearn\\svm\\_base.py:985: ConvergenceWarning: Liblinear failed to converge, increase the number of iterations.\n",
      "  warnings.warn(\"Liblinear failed to converge, increase \"\n"
     ]
    }
   ],
   "source": [
    "svc_1 = svm.LinearSVC(penalty='l1', C=50, multi_class='crammer_singer',max_iter=100000,loss='squared_hinge',dual=False)\n",
    "C_test = [1,10,20,30,40,50,100,200,300,400]\n",
    "kf = KFold(n_splits=5, shuffle=True, random_state=42)\n",
    "param_grid = {'C' : C_test, 'multi_class' : ['crammer_singer'],'loss' : ['hinge']}\n",
    "svc_c = svm.LinearSVC(C=10000, multi_class='crammer_singer',max_iter=100000,loss='squared_hinge')\n",
    "clf = GridSearchCV(svc_c, param_grid = param_grid, cv = kf, verbose=0,n_jobs=-1)\n",
    "clf.fit(X_train,y_train)\n",
    "svc_c = svm.LinearSVC(C=clf.best_params_['C'], multi_class='crammer_singer',max_iter=100000,loss='squared_hinge')\n",
    "svc_c.fit(X_train,y_train)\n",
    "yhat = svc_c.predict(X_test)\n",
    "yhat = np.mean(yhat== y_test)\n",
    "print('Accuracy on test data = {0:f}'.format(yhat))\n",
    "rsq_cv =clf.cv_results_['mean_test_score']\n",
    "maxacc=clf.best_score_\n",
    "maxalpha=clf.best_params_['C']\n"
   ]
  },
  {
   "cell_type": "code",
   "execution_count": 11,
   "id": "5a32959e-0390-44e8-8f7a-d9fe108a45cb",
   "metadata": {},
   "outputs": [
    {
     "name": "stderr",
     "output_type": "stream",
     "text": [
      "c:\\ProgramData\\Anaconda3\\lib\\site-packages\\sklearn\\svm\\_base.py:985: ConvergenceWarning: Liblinear failed to converge, increase the number of iterations.\n",
      "  warnings.warn(\"Liblinear failed to converge, increase \"\n"
     ]
    },
    {
     "name": "stdout",
     "output_type": "stream",
     "text": [
      "Accuracy on test data = 0.789200\n"
     ]
    },
    {
     "data": {
      "image/png": "[encoded data removed]",
      "text/plain": [
       "<Figure size 432x288 with 1 Axes>"
      ]
     },
     "metadata": {
      "needs_background": "light"
     },
     "output_type": "display_data"
    }
   ],
   "source": [
    "fig,ax=plt.subplots()\n",
    "\n",
    "plt.plot(C_test,rsq_cv,'-*',label='Accuracy')\n",
    "#plt.scatter(C_values,rsq_cv,color='r')\n",
    "\n",
    "plt.plot(maxalpha,maxacc,'o',label='Max Accuracy')\n",
    "plt.plot()\n",
    "#plt.xscale(\"log\")\n",
    "plt.ylabel('Accuracy')\n",
    "plt.xlabel('C')\n",
    "plt.grid()\n",
    "plt.legend()\n",
    "plt.xscale('log')\n",
    "plt.savefig('Figures/L1SVCgridsearch.pdf')\n",
    "svc_c = svm.LinearSVC(C=maxalpha, multi_class='crammer_singer',max_iter=100000,loss='squared_hinge')\n",
    "svc_c.fit(X_train,y_train)\n",
    "yhat = svc_c.predict(X_test)\n",
    "acc = np.mean(yhat == y_test)\n",
    "print(\"Accuracy on test data = %f\" % acc)\n"
   ]
  },
  {
   "cell_type": "code",
   "execution_count": 12,
   "id": "9a841744-aa4d-4c18-82de-ab01ed0bbc8b",
   "metadata": {},
   "outputs": [
    {
     "name": "stderr",
     "output_type": "stream",
     "text": [
      "c:\\ProgramData\\Anaconda3\\lib\\site-packages\\sklearn\\svm\\_base.py:985: ConvergenceWarning: Liblinear failed to converge, increase the number of iterations.\n",
      "  warnings.warn(\"Liblinear failed to converge, increase \"\n"
     ]
    },
    {
     "name": "stdout",
     "output_type": "stream",
     "text": [
      "Accuracy on test data = 0.789200\n"
     ]
    },
    {
     "name": "stderr",
     "output_type": "stream",
     "text": [
      "c:\\ProgramData\\Anaconda3\\lib\\site-packages\\sklearn\\svm\\_base.py:985: ConvergenceWarning: Liblinear failed to converge, increase the number of iterations.\n",
      "  warnings.warn(\"Liblinear failed to converge, increase \"\n"
     ]
    }
   ],
   "source": [
    "svc_1 = svm.LinearSVC(penalty='l2', C=50, multi_class='crammer_singer',max_iter=100000,loss='squared_hinge',dual=False)\n",
    "C_test = [1,10,20,30,40,50,100,200,300,400]\n",
    "kf = KFold(n_splits=5, shuffle=True, random_state=42)\n",
    "param_grid = {'C' : C_test, 'multi_class' : ['crammer_singer'],'loss' : ['hinge']}\n",
    "svc_c = svm.LinearSVC(C=10000, multi_class='crammer_singer',max_iter=100000,loss='squared_hinge')\n",
    "clf = GridSearchCV(svc_c, param_grid = param_grid, cv = kf, verbose=0,n_jobs=-1)\n",
    "clf.fit(X_train,y_train)\n",
    "svc_c = svm.LinearSVC(C=clf.best_params_['C'], multi_class='crammer_singer',max_iter=100000,loss='squared_hinge')\n",
    "svc_c.fit(X_train,y_train)\n",
    "yhat = svc_c.predict(X_test)\n",
    "yhat = np.mean(yhat== y_test)\n",
    "print('Accuracy on test data = {0:f}'.format(yhat))\n",
    "rsq_cv =clf.cv_results_['mean_test_score']\n",
    "maxacc=clf.best_score_\n",
    "maxalpha=clf.best_params_['C']\n"
   ]
  },
  {
   "cell_type": "code",
   "execution_count": 13,
   "id": "f68681e3-a358-488d-88d8-7edacf68caa1",
   "metadata": {},
   "outputs": [
    {
     "name": "stderr",
     "output_type": "stream",
     "text": [
      "c:\\ProgramData\\Anaconda3\\lib\\site-packages\\sklearn\\svm\\_base.py:985: ConvergenceWarning: Liblinear failed to converge, increase the number of iterations.\n",
      "  warnings.warn(\"Liblinear failed to converge, increase \"\n"
     ]
    },
    {
     "name": "stdout",
     "output_type": "stream",
     "text": [
      "Accuracy on test data = 0.787600\n"
     ]
    },
    {
     "data": {
      "image/png": "[encoded data removed]",
      "text/plain": [
       "<Figure size 432x288 with 1 Axes>"
      ]
     },
     "metadata": {
      "needs_background": "light"
     },
     "output_type": "display_data"
    }
   ],
   "source": [
    "fig,ax=plt.subplots()\n",
    "\n",
    "plt.plot(C_test,rsq_cv,'-*',label='Accuracy')\n",
    "#plt.scatter(C_values,rsq_cv,color='r')\n",
    "\n",
    "plt.plot(maxalpha,maxacc,'o',label='Max Accuracy')\n",
    "plt.plot()\n",
    "#plt.xscale(\"log\")\n",
    "plt.ylabel('Accuracy')\n",
    "plt.xlabel('C')\n",
    "plt.xscale('log')\n",
    "plt.grid()\n",
    "plt.legend()\n",
    "plt.savefig('Figures/L2SVCgridsearch.pdf')\n",
    "\n",
    "svc_c = svm.LinearSVC(C=maxalpha, multi_class='crammer_singer',max_iter=100000,loss='squared_hinge',verbose=0)\n",
    "svc_c.fit(X_train,y_train)\n",
    "yhat = svc_c.predict(X_test)\n",
    "acc_test = np.mean(yhat == y_test)\n",
    "print(\"Accuracy on test data = %f\" % acc_test)\n"
   ]
  },
  {
   "cell_type": "code",
   "execution_count": null,
   "id": "415c1d7e-7299-44ad-bdbb-f303348407da",
   "metadata": {},
   "outputs": [],
   "source": []
  }
 ],
 "metadata": {
  "kernelspec": {
   "display_name": "Python 3 (ipykernel)",
   "language": "python",
   "name": "python3"
  },
  "language_info": {
   "codemirror_mode": {
    "name": "ipython",
    "version": 3
   },
   "file_extension": ".py",
   "mimetype": "text/x-python",
   "name": "python",
   "nbconvert_exporter": "python",
   "pygments_lexer": "ipython3",
   "version": "3.8.8"
  }
 },
 "nbformat": 4,
 "nbformat_minor": 5
}
